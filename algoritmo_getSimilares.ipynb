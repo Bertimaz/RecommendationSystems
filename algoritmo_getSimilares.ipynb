{
  "cells": [
    {
      "cell_type": "code",
      "execution_count": 1,
      "metadata": {
        "id": "X2PiDdKnlJdJ"
      },
      "outputs": [
        {
          "name": "stdout",
          "output_type": "stream",
          "text": [
            "{'Ana': {'Cartão de Crédito': 1, 'Conta Corrente': 2, 'Poupança': 3, 'Renda Fixa': 4, 'Crédito Pessoal': 5}, 'Marcos': {'Cartão de Crédito': 2, 'Conta Corrente': 3, 'Poupança': 4, 'Renda Fixa': 5, 'Renda Variável': 0.6}, 'Pedro': {'Cartão de Crédito': 3, 'Conta Corrente': 4, 'Poupança': 5, 'Crédito Pessoal': 7}, 'Claudia': {'Cartão de Crédito': 4, 'Conta Corrente': 5, 'Poupança': 6}}\n"
          ]
        }
      ],
      "source": [
        "from dados.clientes import clientes"
      ]
    },
    {
      "cell_type": "code",
      "execution_count": 2,
      "metadata": {
        "colab": {
          "base_uri": "https://localhost:8080/"
        },
        "id": "9ADQuZsoWoJ5",
        "outputId": "6ca1354a-f083-4283-f77a-f3fd61c490ce"
      },
      "outputs": [
        {
          "data": {
            "text/plain": [
              "{'Cartão de Crédito': 4, 'Conta Corrente': 5, 'Poupança': 6}"
            ]
          },
          "execution_count": 2,
          "metadata": {},
          "output_type": "execute_result"
        }
      ],
      "source": [
        "clientes['Claudia']"
      ]
    },
    {
      "cell_type": "code",
      "execution_count": 3,
      "metadata": {
        "id": "w0bYqqsKWqU8"
      },
      "outputs": [],
      "source": [
        "from math import sqrt\n",
        "def euclidiana(usuario1, usuario2):\n",
        "  return sqrt(sum([pow(clientes[usuario1][item] - clientes[usuario2][item],2)\n",
        "                        for item in clientes[usuario1] if item in clientes[usuario2]]))"
      ]
    },
    {
      "cell_type": "code",
      "execution_count": 4,
      "metadata": {
        "colab": {
          "base_uri": "https://localhost:8080/"
        },
        "id": "4fW8KHEzXV6c",
        "outputId": "30b5ead8-6f6b-43ab-c3b3-a1997732732e"
      },
      "outputs": [
        {
          "data": {
            "text/plain": [
              "5.196152422706632"
            ]
          },
          "execution_count": 4,
          "metadata": {},
          "output_type": "execute_result"
        }
      ],
      "source": [
        "euclidiana('Ana', 'Claudia')"
      ]
    },
    {
      "cell_type": "code",
      "execution_count": 5,
      "metadata": {
        "id": "aWAsQMraX7JQ"
      },
      "outputs": [],
      "source": [
        "def similaridade(usuario1, usuario2):\n",
        "  de = euclidiana(usuario1, usuario2)\n",
        "  sim = 1/(1+de)\n",
        "  return sim"
      ]
    },
    {
      "cell_type": "code",
      "execution_count": 6,
      "metadata": {
        "colab": {
          "base_uri": "https://localhost:8080/"
        },
        "id": "ovvptXIkX9Oi",
        "outputId": "38502fb5-3c6b-447e-822f-4fce6da98483"
      },
      "outputs": [
        {
          "data": {
            "text/plain": [
              "0.16139047779640892"
            ]
          },
          "execution_count": 6,
          "metadata": {},
          "output_type": "execute_result"
        }
      ],
      "source": [
        "similaridade('Ana', 'Claudia')"
      ]
    },
    {
      "cell_type": "code",
      "execution_count": 7,
      "metadata": {
        "id": "97g96CSZYtaE"
      },
      "outputs": [],
      "source": [
        "def getSimilares(usuario):\n",
        "  listaSimilaridade = [(round(similaridade(usuario, outro),2), outro)\n",
        "      for outro in clientes if outro != usuario]\n",
        "  listaSimilaridade.sort()\n",
        "  listaSimilaridade.reverse()\n",
        "  return listaSimilaridade"
      ]
    },
    {
      "cell_type": "code",
      "execution_count": 8,
      "metadata": {
        "colab": {
          "base_uri": "https://localhost:8080/"
        },
        "id": "KFtUB9oKYvFo",
        "outputId": "bf029b7e-33e6-44d3-fe48-0a6c3cf3d0e7"
      },
      "outputs": [
        {
          "data": {
            "text/plain": [
              "[(0.33, 'Marcos'), (0.2, 'Pedro'), (0.16, 'Claudia')]"
            ]
          },
          "execution_count": 8,
          "metadata": {},
          "output_type": "execute_result"
        }
      ],
      "source": [
        "getSimilares('Ana')"
      ]
    },
    {
      "cell_type": "code",
      "execution_count": 9,
      "metadata": {},
      "outputs": [
        {
          "name": "stdout",
          "output_type": "stream",
          "text": [
            "0.3333333333333333\n",
            "0.2\n",
            "0.16139047779640892\n",
            "0.3333333333333333\n",
            "0.36602540378443865\n",
            "0.2240092377397959\n",
            "0.2\n",
            "0.36602540378443865\n",
            "0.36602540378443865\n",
            "0.16139047779640892\n",
            "0.2240092377397959\n",
            "0.36602540378443865\n"
          ]
        }
      ],
      "source": [
        "  # Connect to PostgreSQL (template1 database) to create a new database\n",
        "from config import databaseSuperUser\n",
        "import psycopg2\n",
        "from setupDB import connect\n",
        "\n",
        "db=databaseSuperUser['db']\n",
        "host=databaseSuperUser['Server']\n",
        "port=databaseSuperUser['port']\n",
        "user=databaseSuperUser['Username']\n",
        "password=databaseSuperUser['password']\n",
        "connection=connect()\n",
        "\n",
        "cursor=connection.cursor()\n",
        "# cursor.execute(f\"insert into dim.produto(ID,nome_produto, likes_quant) VALUES({id},'{self.produto[id]}',0)\")\n",
        "for cliente_origem in clientes:\n",
        "    for cliente_destino in clientes:\n",
        "        if cliente_origem!=cliente_destino:\n",
        "            similaridade_n=similaridade(cliente_origem,cliente_destino)\n",
        "            print(similaridade_n)\n",
        "            cursor.execute(f\"select id from dim.cliente where nome_cliente='{cliente_origem}'\")\n",
        "            id_origem=cursor.fetchone()[0]\n",
        "            cursor.execute(f\"select id from dim.cliente where nome_cliente='{cliente_destino}'\")\n",
        "            id_destino=cursor.fetchone()[0]\n",
        "            cursor.execute(f\"insert into dim.cliente_similaridade (id_cliente_origem,id_cliente_destino,similaridade) Values({id_origem},{id_destino},{similaridade_n})\")\n",
        "# Close the cursor and connection\n",
        "connection.commit()\n",
        "cursor.close()\n",
        "connection.close()"
      ]
    },
    {
      "cell_type": "code",
      "execution_count": 10,
      "metadata": {},
      "outputs": [
        {
          "data": {
            "text/plain": [
              "{'Ana': {'Cartão de Crédito': 1,\n",
              "  'Conta Corrente': 2,\n",
              "  'Poupança': 3,\n",
              "  'Renda Fixa': 4,\n",
              "  'Crédito Pessoal': 5},\n",
              " 'Marcos': {'Cartão de Crédito': 2,\n",
              "  'Conta Corrente': 3,\n",
              "  'Poupança': 4,\n",
              "  'Renda Fixa': 5,\n",
              "  'Renda Variável': 0.6},\n",
              " 'Pedro': {'Cartão de Crédito': 3,\n",
              "  'Conta Corrente': 4,\n",
              "  'Poupança': 5,\n",
              "  'Crédito Pessoal': 7},\n",
              " 'Claudia': {'Cartão de Crédito': 4, 'Conta Corrente': 5, 'Poupança': 6}}"
            ]
          },
          "execution_count": 10,
          "metadata": {},
          "output_type": "execute_result"
        },
        {
          "name": "stderr",
          "output_type": "stream",
          "text": [
            "2024-04-07 22:42:43.120 \n",
            "  \u001b[33m\u001b[1mWarning:\u001b[0m to view this Streamlit app on a browser, run it with the following\n",
            "  command:\n",
            "\n",
            "    streamlit run c:\\Users\\alber\\AppData\\Local\\Programs\\Python\\Python311\\Lib\\site-packages\\ipykernel_launcher.py [ARGUMENTS]\n"
          ]
        }
      ],
      "source": [
        "clientes"
      ]
    },
    {
      "cell_type": "code",
      "execution_count": null,
      "metadata": {},
      "outputs": [],
      "source": []
    }
  ],
  "metadata": {
    "colab": {
      "provenance": []
    },
    "kernelspec": {
      "display_name": "Python 3",
      "name": "python3"
    },
    "language_info": {
      "codemirror_mode": {
        "name": "ipython",
        "version": 3
      },
      "file_extension": ".py",
      "mimetype": "text/x-python",
      "name": "python",
      "nbconvert_exporter": "python",
      "pygments_lexer": "ipython3",
      "version": "3.11.7"
    }
  },
  "nbformat": 4,
  "nbformat_minor": 0
}
